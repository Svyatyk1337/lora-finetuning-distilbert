{
 "cells": [
  {
   "cell_type": "code",
   "execution_count": 1,
   "metadata": {},
   "outputs": [],
   "source": [
    "from datasets import load_dataset, Dataset,DatasetDict\n",
    "\n",
    "from transformers import (\n",
    "    AutoTokenizer,\n",
    "    AutoModelForSequenceClassification,\n",
    "    TrainingArguments,\n",
    "    Trainer,\n",
    "    DataCollatorWithPadding\n",
    ")\n",
    "\n",
    "import numpy as np\n",
    "import torch\n",
    "from peft import (\n",
    "    PeftModel,\n",
    "    PeftConfig,\n",
    "    get_peft_model,\n",
    "    LoraConfig\n",
    "\n",
    ")\n",
    "import evaluate"
   ]
  },
  {
   "cell_type": "code",
   "execution_count": 2,
   "metadata": {},
   "outputs": [
    {
     "name": "stderr",
     "output_type": "stream",
     "text": [
      "Some weights of DistilBertForSequenceClassification were not initialized from the model checkpoint at distilbert/distilbert-base-uncased and are newly initialized: ['classifier.bias', 'classifier.weight', 'pre_classifier.bias', 'pre_classifier.weight']\n",
      "You should probably TRAIN this model on a down-stream task to be able to use it for predictions and inference.\n"
     ]
    }
   ],
   "source": [
    "model_checkpoint = \"distilbert/distilbert-base-uncased\"\n",
    "\n",
    "id2label = {0: \"NEGATIVE\", 1: \"POSITIVE\"}\n",
    "label2id = {\"NEGATIVE\": 0, \"POSITIVE\": 1}\n",
    "\n",
    "model = AutoModelForSequenceClassification.from_pretrained(\n",
    "    model_checkpoint,num_labels=2, label2id=label2id, id2label=id2label\n",
    "    \n",
    ")"
   ]
  },
  {
   "cell_type": "code",
   "execution_count": 3,
   "metadata": {},
   "outputs": [],
   "source": [
    "dataset = load_dataset(\"shawhin/imdb-truncated\")"
   ]
  },
  {
   "cell_type": "code",
   "execution_count": 4,
   "metadata": {},
   "outputs": [
    {
     "data": {
      "text/plain": [
       "DatasetDict({\n",
       "    train: Dataset({\n",
       "        features: ['label', 'text'],\n",
       "        num_rows: 1000\n",
       "    })\n",
       "    validation: Dataset({\n",
       "        features: ['label', 'text'],\n",
       "        num_rows: 1000\n",
       "    })\n",
       "})"
      ]
     },
     "execution_count": 4,
     "metadata": {},
     "output_type": "execute_result"
    }
   ],
   "source": [
    "dataset"
   ]
  },
  {
   "cell_type": "code",
   "execution_count": 5,
   "metadata": {},
   "outputs": [],
   "source": [
    "tokenizer = AutoTokenizer.from_pretrained(model_checkpoint, clean_up_tokenization_spaces=True)"
   ]
  },
  {
   "cell_type": "code",
   "execution_count": 6,
   "metadata": {},
   "outputs": [],
   "source": [
    "def tokenizer_function(examples):\n",
    "    text = examples[\"text\"]\n",
    "    tokenizer.truncation_side = \"left\"\n",
    "\n",
    "    tokenized_output = tokenizer(\n",
    "        text, truncation=True, max_length=512, return_tensors=\"np\"\n",
    "    )\n",
    "\n",
    "    return tokenized_output\n"
   ]
  },
  {
   "cell_type": "code",
   "execution_count": 7,
   "metadata": {},
   "outputs": [
    {
     "data": {
      "application/vnd.jupyter.widget-view+json": {
       "model_id": "7a920d6cd1a04f1d8871af3dfdddae8f",
       "version_major": 2,
       "version_minor": 0
      },
      "text/plain": [
       "Map:   0%|          | 0/1000 [00:00<?, ? examples/s]"
      ]
     },
     "metadata": {},
     "output_type": "display_data"
    },
    {
     "data": {
      "text/plain": [
       "DatasetDict({\n",
       "    train: Dataset({\n",
       "        features: ['label', 'text', 'input_ids', 'attention_mask'],\n",
       "        num_rows: 1000\n",
       "    })\n",
       "    validation: Dataset({\n",
       "        features: ['label', 'text', 'input_ids', 'attention_mask'],\n",
       "        num_rows: 1000\n",
       "    })\n",
       "})"
      ]
     },
     "execution_count": 7,
     "metadata": {},
     "output_type": "execute_result"
    }
   ],
   "source": [
    "if tokenizer.pad_token is None:\n",
    "    tokenizer.add_special_tokens({\"pad_token\": \"[PAD]\"})\n",
    "    model.resize_token_embeddings(len(tokenizer))\n",
    "tokenized_dataset = dataset.map(tokenizer_function, batched=True)\n",
    "\n",
    "tokenized_dataset"
   ]
  },
  {
   "cell_type": "code",
   "execution_count": 8,
   "metadata": {},
   "outputs": [],
   "source": [
    "data_collator = DataCollatorWithPadding(tokenizer=tokenizer)"
   ]
  },
  {
   "cell_type": "code",
   "execution_count": 9,
   "metadata": {},
   "outputs": [],
   "source": [
    "accuracy = evaluate.load(\"accuracy\")\n",
    "\n",
    "def compute_metrics(eval_pred):\n",
    "    predictions, labels = eval_pred\n",
    "    predictions = np.argmax(predictions, axis=1)\n",
    "    return {\"accuracy\": accuracy.compute(predictions=predictions, references=labels)}"
   ]
  },
  {
   "cell_type": "code",
   "execution_count": 11,
   "metadata": {},
   "outputs": [
    {
     "name": "stdout",
     "output_type": "stream",
     "text": [
      "Untrained model predictions:\n",
      "---------------------------\n",
      "A cinematic masterpiece! 10/10 would watch again. - NEGATIVE\n",
      "Underwhelming experience. The plot was predictable. - NEGATIVE\n",
      "The special effects were mind-blowing, but the story was lacking. - NEGATIVE\n",
      "I loved the cast, but the pacing was slow. - NEGATIVE\n",
      "A beautifully shot film with a compelling narrative. - NEGATIVE\n",
      "Not my cup of tea, but I can see why others would enjoy it. - NEGATIVE\n",
      "The dialogue was witty and the characters were well-developed. - NEGATIVE\n",
      "A disappointing sequel that didn't live up to the original. - NEGATIVE\n",
      "A thought-provoking film that left me questioning reality. - NEGATIVE\n",
      "A fun, lighthearted movie perfect for a night in. - NEGATIVE\n",
      "i hate this shit - NEGATIVE\n"
     ]
    }
   ],
   "source": [
    "text_list = [\"A cinematic masterpiece! 10/10 would watch again.\",\n",
    "    \"Underwhelming experience. The plot was predictable.\",\n",
    "    \"The special effects were mind-blowing, but the story was lacking.\",\n",
    "    \"I loved the cast, but the pacing was slow.\",\n",
    "    \"A beautifully shot film with a compelling narrative.\",\n",
    "    \"Not my cup of tea, but I can see why others would enjoy it.\",\n",
    "    \"The dialogue was witty and the characters were well-developed.\",\n",
    "    \"A disappointing sequel that didn't live up to the original.\",\n",
    "    \"A thought-provoking film that left me questioning reality.\",\n",
    "    \"A fun, lighthearted movie perfect for a night in.\",\n",
    "    \"i hate this shit\"]\n",
    "\n",
    "print(\"Untrained model predictions:\")\n",
    "print(\"---------------------------\")\n",
    "\n",
    "for text in text_list:\n",
    "    # tokenize text\n",
    "    inputs = tokenizer.encode(text, return_tensors=\"pt\")\n",
    "\n",
    "    logits = model(inputs).logits\n",
    "    \n",
    "    predictions = torch.argmax(logits, dim=-1)\n",
    "    \n",
    "    # print(f\"Input: {inputs}\")\n",
    "    # print(f\"Logits: {logits}\")\n",
    "    # print(f\"Predictions: {predictions.item()}\")\n",
    "    print(f\"{text} - {id2label[predictions.item()]}\")\n",
    "    \n"
   ]
  },
  {
   "cell_type": "code",
   "execution_count": 12,
   "metadata": {},
   "outputs": [],
   "source": [
    "peft_config = LoraConfig(\n",
    "    task_type=\"SEQ_CLS\",\n",
    "    r=4,\n",
    "    lora_alpha=32,\n",
    "    lora_dropout=0.01,\n",
    "    target_modules=[\"q_lin\"]\n",
    ")"
   ]
  },
  {
   "cell_type": "code",
   "execution_count": 13,
   "metadata": {},
   "outputs": [
    {
     "name": "stdout",
     "output_type": "stream",
     "text": [
      "trainable params: 628,994 || all params: 67,584,004 || trainable%: 0.9307\n"
     ]
    }
   ],
   "source": [
    "model = get_peft_model(model, peft_config)\n",
    "model.print_trainable_parameters()"
   ]
  },
  {
   "cell_type": "code",
   "execution_count": 14,
   "metadata": {},
   "outputs": [
    {
     "name": "stderr",
     "output_type": "stream",
     "text": [
      "/home/svyatoslav/anaconda3/lib/python3.12/site-packages/transformers/training_args.py:1525: FutureWarning: `evaluation_strategy` is deprecated and will be removed in version 4.46 of 🤗 Transformers. Use `eval_strategy` instead\n",
      "  warnings.warn(\n",
      "huggingface/tokenizers: The current process just got forked, after parallelism has already been used. Disabling parallelism to avoid deadlocks...\n",
      "To disable this warning, you can either:\n",
      "\t- Avoid using `tokenizers` before the fork if possible\n",
      "\t- Explicitly set the environment variable TOKENIZERS_PARALLELISM=(true | false)\n",
      "huggingface/tokenizers: The current process just got forked, after parallelism has already been used. Disabling parallelism to avoid deadlocks...\n",
      "To disable this warning, you can either:\n",
      "\t- Avoid using `tokenizers` before the fork if possible\n",
      "\t- Explicitly set the environment variable TOKENIZERS_PARALLELISM=(true | false)\n"
     ]
    }
   ],
   "source": [
    "lr = 1e-3\n",
    "batch_size = 8\n",
    "epochs = 10\n",
    "\n",
    "training_args = TrainingArguments(  \n",
    "    output_dir=\"./lora-text-classification\",\n",
    "    learning_rate=lr,\n",
    "    per_device_train_batch_size=batch_size,\n",
    "    per_device_eval_batch_size=batch_size,\n",
    "    num_train_epochs=epochs,\n",
    "    evaluation_strategy=\"epoch\",\n",
    "    save_strategy=\"epoch\",\n",
    "    load_best_model_at_end=True,\n",
    "    weight_decay=0.01\n",
    ")"
   ]
  },
  {
   "cell_type": "code",
   "execution_count": 15,
   "metadata": {},
   "outputs": [
    {
     "data": {
      "application/vnd.jupyter.widget-view+json": {
       "model_id": "b26ecc674c31432b9929119ed8c7ab14",
       "version_major": 2,
       "version_minor": 0
      },
      "text/plain": [
       "  0%|          | 0/1250 [00:00<?, ?it/s]"
      ]
     },
     "metadata": {},
     "output_type": "display_data"
    },
    {
     "data": {
      "application/vnd.jupyter.widget-view+json": {
       "model_id": "1ed07d9ec7c64cbdaadbc605f36e0acd",
       "version_major": 2,
       "version_minor": 0
      },
      "text/plain": [
       "  0%|          | 0/125 [00:00<?, ?it/s]"
      ]
     },
     "metadata": {},
     "output_type": "display_data"
    },
    {
     "name": "stdout",
     "output_type": "stream",
     "text": [
      "{'eval_loss': 0.2768518626689911, 'eval_accuracy': {'accuracy': 0.884}, 'eval_runtime': 21.929, 'eval_samples_per_second': 45.602, 'eval_steps_per_second': 5.7, 'epoch': 1.0}\n"
     ]
    },
    {
     "data": {
      "application/vnd.jupyter.widget-view+json": {
       "model_id": "795537a1bd6b459dba316518f51b9ce9",
       "version_major": 2,
       "version_minor": 0
      },
      "text/plain": [
       "  0%|          | 0/125 [00:00<?, ?it/s]"
      ]
     },
     "metadata": {},
     "output_type": "display_data"
    },
    {
     "name": "stdout",
     "output_type": "stream",
     "text": [
      "{'eval_loss': 0.39668869972229004, 'eval_accuracy': {'accuracy': 0.877}, 'eval_runtime': 21.9114, 'eval_samples_per_second': 45.638, 'eval_steps_per_second': 5.705, 'epoch': 2.0}\n"
     ]
    },
    {
     "data": {
      "application/vnd.jupyter.widget-view+json": {
       "model_id": "0e3cf271421e4a82983b1d3573c3153a",
       "version_major": 2,
       "version_minor": 0
      },
      "text/plain": [
       "  0%|          | 0/125 [00:00<?, ?it/s]"
      ]
     },
     "metadata": {},
     "output_type": "display_data"
    },
    {
     "name": "stdout",
     "output_type": "stream",
     "text": [
      "{'eval_loss': 0.42255666851997375, 'eval_accuracy': {'accuracy': 0.883}, 'eval_runtime': 22.009, 'eval_samples_per_second': 45.436, 'eval_steps_per_second': 5.679, 'epoch': 3.0}\n",
      "{'loss': 0.2501, 'grad_norm': 5.104808330535889, 'learning_rate': 0.0006, 'epoch': 4.0}\n"
     ]
    },
    {
     "data": {
      "application/vnd.jupyter.widget-view+json": {
       "model_id": "128535dbdc764036bd4647f5f9279e61",
       "version_major": 2,
       "version_minor": 0
      },
      "text/plain": [
       "  0%|          | 0/125 [00:00<?, ?it/s]"
      ]
     },
     "metadata": {},
     "output_type": "display_data"
    },
    {
     "name": "stdout",
     "output_type": "stream",
     "text": [
      "{'eval_loss': 0.47960373759269714, 'eval_accuracy': {'accuracy': 0.883}, 'eval_runtime': 22.0767, 'eval_samples_per_second': 45.297, 'eval_steps_per_second': 5.662, 'epoch': 4.0}\n"
     ]
    },
    {
     "data": {
      "application/vnd.jupyter.widget-view+json": {
       "model_id": "bf2849c1d027423880c651ccb6fe4777",
       "version_major": 2,
       "version_minor": 0
      },
      "text/plain": [
       "  0%|          | 0/125 [00:00<?, ?it/s]"
      ]
     },
     "metadata": {},
     "output_type": "display_data"
    },
    {
     "name": "stdout",
     "output_type": "stream",
     "text": [
      "{'eval_loss': 0.5775741934776306, 'eval_accuracy': {'accuracy': 0.89}, 'eval_runtime': 22.1028, 'eval_samples_per_second': 45.243, 'eval_steps_per_second': 5.655, 'epoch': 5.0}\n"
     ]
    },
    {
     "data": {
      "application/vnd.jupyter.widget-view+json": {
       "model_id": "07dd925317d04abfb086d42be144bba4",
       "version_major": 2,
       "version_minor": 0
      },
      "text/plain": [
       "  0%|          | 0/125 [00:00<?, ?it/s]"
      ]
     },
     "metadata": {},
     "output_type": "display_data"
    },
    {
     "name": "stdout",
     "output_type": "stream",
     "text": [
      "{'eval_loss': 0.5605072975158691, 'eval_accuracy': {'accuracy': 0.898}, 'eval_runtime': 22.2015, 'eval_samples_per_second': 45.042, 'eval_steps_per_second': 5.63, 'epoch': 6.0}\n"
     ]
    },
    {
     "data": {
      "application/vnd.jupyter.widget-view+json": {
       "model_id": "0149b09f4c5b4637b1bc8ae2a7cb28df",
       "version_major": 2,
       "version_minor": 0
      },
      "text/plain": [
       "  0%|          | 0/125 [00:00<?, ?it/s]"
      ]
     },
     "metadata": {},
     "output_type": "display_data"
    },
    {
     "name": "stdout",
     "output_type": "stream",
     "text": [
      "{'eval_loss': 0.6357624530792236, 'eval_accuracy': {'accuracy': 0.899}, 'eval_runtime': 22.1213, 'eval_samples_per_second': 45.205, 'eval_steps_per_second': 5.651, 'epoch': 7.0}\n",
      "{'loss': 0.0437, 'grad_norm': 0.12736117839813232, 'learning_rate': 0.0002, 'epoch': 8.0}\n"
     ]
    },
    {
     "data": {
      "application/vnd.jupyter.widget-view+json": {
       "model_id": "b1a96db98af84436b925971a2f127b99",
       "version_major": 2,
       "version_minor": 0
      },
      "text/plain": [
       "  0%|          | 0/125 [00:00<?, ?it/s]"
      ]
     },
     "metadata": {},
     "output_type": "display_data"
    },
    {
     "name": "stdout",
     "output_type": "stream",
     "text": [
      "{'eval_loss': 0.724678635597229, 'eval_accuracy': {'accuracy': 0.884}, 'eval_runtime': 22.1466, 'eval_samples_per_second': 45.154, 'eval_steps_per_second': 5.644, 'epoch': 8.0}\n"
     ]
    },
    {
     "data": {
      "application/vnd.jupyter.widget-view+json": {
       "model_id": "fec36769eb2d44ba93247444e857c119",
       "version_major": 2,
       "version_minor": 0
      },
      "text/plain": [
       "  0%|          | 0/125 [00:00<?, ?it/s]"
      ]
     },
     "metadata": {},
     "output_type": "display_data"
    },
    {
     "name": "stdout",
     "output_type": "stream",
     "text": [
      "{'eval_loss': 0.690979540348053, 'eval_accuracy': {'accuracy': 0.901}, 'eval_runtime': 22.1523, 'eval_samples_per_second': 45.142, 'eval_steps_per_second': 5.643, 'epoch': 9.0}\n"
     ]
    },
    {
     "data": {
      "application/vnd.jupyter.widget-view+json": {
       "model_id": "d8bca7b3f1984e80ab34a8b68e45b951",
       "version_major": 2,
       "version_minor": 0
      },
      "text/plain": [
       "  0%|          | 0/125 [00:00<?, ?it/s]"
      ]
     },
     "metadata": {},
     "output_type": "display_data"
    },
    {
     "name": "stdout",
     "output_type": "stream",
     "text": [
      "{'eval_loss': 0.7199811935424805, 'eval_accuracy': {'accuracy': 0.894}, 'eval_runtime': 22.2845, 'eval_samples_per_second': 44.874, 'eval_steps_per_second': 5.609, 'epoch': 10.0}\n",
      "{'train_runtime': 805.1337, 'train_samples_per_second': 12.42, 'train_steps_per_second': 1.553, 'train_loss': 0.11814543166160583, 'epoch': 10.0}\n"
     ]
    },
    {
     "data": {
      "text/plain": [
       "TrainOutput(global_step=1250, training_loss=0.11814543166160583, metrics={'train_runtime': 805.1337, 'train_samples_per_second': 12.42, 'train_steps_per_second': 1.553, 'total_flos': 1253694805157184.0, 'train_loss': 0.11814543166160583, 'epoch': 10.0})"
      ]
     },
     "execution_count": 15,
     "metadata": {},
     "output_type": "execute_result"
    }
   ],
   "source": [
    "trainer = Trainer(\n",
    "    model=model,\n",
    "    args=training_args,\n",
    "    train_dataset=tokenized_dataset[\"train\"],\n",
    "    eval_dataset=tokenized_dataset[\"validation\"],\n",
    "    tokenizer=tokenizer,\n",
    "    data_collator=data_collator,\n",
    "    compute_metrics=compute_metrics\n",
    ")\n",
    "\n",
    "trainer.train()"
   ]
  },
  {
   "cell_type": "code",
   "execution_count": 17,
   "metadata": {},
   "outputs": [
    {
     "name": "stdout",
     "output_type": "stream",
     "text": [
      "Trained model predictions:\n",
      "---------------------------\n",
      "A cinematic masterpiece! 10/10 would watch again. - POSITIVE\n",
      "Underwhelming experience. The plot was predictable. - NEGATIVE\n",
      "The special effects were mind-blowing, but the story was lacking. - NEGATIVE\n",
      "I loved the cast, but the pacing was slow. - NEGATIVE\n",
      "A beautifully shot film with a compelling narrative. - POSITIVE\n",
      "Not my cup of tea, but I can see why others would enjoy it. - POSITIVE\n",
      "The dialogue was witty and the characters were well-developed. - POSITIVE\n",
      "A disappointing sequel that didn't live up to the original. - NEGATIVE\n",
      "A thought-provoking film that left me questioning reality. - NEGATIVE\n",
      "A fun, lighthearted movie perfect for a night in. - POSITIVE\n",
      "i hate this shit - NEGATIVE\n"
     ]
    }
   ],
   "source": [
    "model.to(\"cuda\")\n",
    "\n",
    "print(\"Trained model predictions:\")\n",
    "print(\"---------------------------\")\n",
    "\n",
    "for text in text_list:\n",
    "    # tokenize text\n",
    "    inputs = tokenizer.encode(text, return_tensors=\"pt\").to(\"cuda\")\n",
    "\n",
    "    logits = model(inputs).logits\n",
    "    \n",
    "    \n",
    "    predictions = torch.argmax(logits, dim=-1)\n",
    "    \n",
    "    # print(f\"Input: {inputs}\")\n",
    "    # print(f\"Logits: {logits}\")\n",
    "    # print(f\"Predictions: {predictions.item()}\")\n",
    "    print(f\"{text} - {id2label[predictions.item()]}\")\n"
   ]
  },
  {
   "cell_type": "code",
   "execution_count": null,
   "metadata": {},
   "outputs": [],
   "source": []
  }
 ],
 "metadata": {
  "kernelspec": {
   "display_name": "Python 3 (ipykernel)",
   "language": "python",
   "name": "python3"
  },
  "language_info": {
   "codemirror_mode": {
    "name": "ipython",
    "version": 3
   },
   "file_extension": ".py",
   "mimetype": "text/x-python",
   "name": "python",
   "nbconvert_exporter": "python",
   "pygments_lexer": "ipython3",
   "version": "3.12.7"
  }
 },
 "nbformat": 4,
 "nbformat_minor": 4
}
